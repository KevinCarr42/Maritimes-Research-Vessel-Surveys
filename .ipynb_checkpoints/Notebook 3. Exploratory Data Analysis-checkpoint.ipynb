{
 "cells": [
  {
   "cell_type": "markdown",
   "id": "a176e923",
   "metadata": {},
   "source": [
    "# References"
   ]
  },
  {
   "cell_type": "markdown",
   "id": "4c8ff0b7",
   "metadata": {},
   "source": [
    "Pandas:\n",
    "\n",
    "https://pandas.pydata.org/docs/reference/api/pandas.DatetimeIndex.html\n",
    "\n",
    "https://pandas.pydata.org/docs/user_guide/timeseries.html"
   ]
  },
  {
   "cell_type": "markdown",
   "id": "af6ef483",
   "metadata": {},
   "source": [
    "# import modules"
   ]
  },
  {
   "cell_type": "code",
   "execution_count": 1,
   "id": "1cbb738a",
   "metadata": {},
   "outputs": [
    {
     "data": {
      "text/html": [
       "<style>.container { width:100% !important; }</style>"
      ],
      "text/plain": [
       "<IPython.core.display.HTML object>"
      ]
     },
     "metadata": {},
     "output_type": "display_data"
    }
   ],
   "source": [
    "# imports\n",
    "import pandas as pd\n",
    "import numpy as np\n",
    "\n",
    "# full-width display\n",
    "from IPython.core.display import display, HTML\n",
    "display(HTML(\"<style>.container { width:100% !important; }</style>\"))\n",
    "\n",
    "# pandas format\n",
    "pd.set_option('display.float_format', '{:_.0f}'.format)\n",
    "# NOTE: underscore separaters ('_') are better than commas (',') because \n",
    "# numbers with underscores work in Python without any extra effort.\n",
    "pd.set_option('display.max_columns', None)\n",
    "\n",
    "# plotting modules\n",
    "import matplotlib.pyplot as plt\n",
    "from matplotlib.ticker import MaxNLocator\n",
    "import matplotlib as mpl\n",
    "%matplotlib inline\n",
    "mpl.rcParams[\"axes.formatter.min_exponent\"] = 20  # no scientific notation in graphs\n",
    "plt.rcParams['axes.titley'] = 1.0    # y is in axes-relative coordinates.\n",
    "plt.rcParams['axes.titlepad'] = 10   # pad is in points... default is 6\n",
    "import seaborn as sns\n",
    "sns.set_theme()"
   ]
  },
  {
   "cell_type": "markdown",
   "id": "0b5bc3f5",
   "metadata": {},
   "source": [
    "stop wrapping text in tables / dataframes"
   ]
  },
  {
   "cell_type": "code",
   "execution_count": 2,
   "id": "de17523c",
   "metadata": {},
   "outputs": [
    {
     "data": {
      "text/html": [
       "<style>.dataframe td {white-space: nowrap;}</style>\n"
      ],
      "text/plain": [
       "<IPython.core.display.HTML object>"
      ]
     },
     "metadata": {},
     "output_type": "display_data"
    }
   ],
   "source": [
    "%%html\n",
    "<style>.dataframe td {white-space: nowrap;}</style>"
   ]
  },
  {
   "cell_type": "markdown",
   "id": "613e1d78",
   "metadata": {},
   "source": [
    "# import data"
   ]
  },
  {
   "cell_type": "code",
   "execution_count": 3,
   "id": "d8b5d783",
   "metadata": {},
   "outputs": [],
   "source": [
    "# NOTE this file IS NOT ON GITHUB, it is too big, so it is in gitignore\n",
    "# run the RV Database notebook to create this file from the cleaned tables\n",
    "\n",
    "# entire database in one dataframe (df for simplicity)\n",
    "df = pd.read_csv(\n",
    "    'RV_DATABASE.csv', \n",
    "    dtype={'MATURITY':object, \n",
    "           'STRAT':object, \n",
    "           'TOTNO':'Int64', \n",
    "           'SPEC':'Int64',\n",
    "           'SPECIMEN_ID':'Int64'},\n",
    "    parse_dates=['DATETIME']  # need to parse the DATETIME field as pd.datetime format\n",
    ")\n",
    "\n",
    "# sort by datetime and reindex\n",
    "df = df.sort_values('DATETIME').reset_index(drop=True)"
   ]
  },
  {
   "cell_type": "code",
   "execution_count": 4,
   "id": "2a59fea8",
   "metadata": {},
   "outputs": [],
   "source": [
    "# individual tables used to define the database\n",
    "SPECIES = pd.read_csv('SPECIES.csv', index_col = 'index')\n",
    "SPECIES.columns = ['SPEC', 'COMMON_NAME', 'SCIENTIFIC_NAME']\n",
    "MISSIONS = pd.read_csv('MISSIONS.csv')\n",
    "GSCAT = pd.read_csv('GSCAT.csv')\n",
    "GSINF = pd.read_csv('GSINF.csv', index_col='date and time', parse_dates=['date and time'])  # parse index as pd.datetime format\n",
    "GSINF.index.name = 'DATETIME'\n",
    "GSDET = pd.read_csv('GSDET.csv')"
   ]
  },
  {
   "cell_type": "markdown",
   "id": "a4606209",
   "metadata": {},
   "source": [
    "# helper functions"
   ]
  },
  {
   "cell_type": "code",
   "execution_count": 5,
   "id": "f711cc83",
   "metadata": {},
   "outputs": [
    {
     "data": {
      "text/plain": [
       "'COD(ATLANTIC)'"
      ]
     },
     "execution_count": 5,
     "metadata": {},
     "output_type": "execute_result"
    }
   ],
   "source": [
    "def get_species(species_code):\n",
    "    return SPECIES[SPECIES.SPEC == species_code].COMMON_NAME.tolist()[0]\n",
    "\n",
    "# test\n",
    "get_species(10)"
   ]
  },
  {
   "cell_type": "markdown",
   "id": "2c5072d4",
   "metadata": {},
   "source": [
    "# EDA"
   ]
  },
  {
   "cell_type": "markdown",
   "id": "25b11c57",
   "metadata": {},
   "source": [
    "### Haul Weights By Month, By Species"
   ]
  },
  {
   "cell_type": "code",
   "execution_count": 67,
   "id": "fa7489c5",
   "metadata": {},
   "outputs": [],
   "source": [
    "def filtered_yearly(data_filter = None):\n",
    "    \"\"\"\n",
    "    assumes df is the main dataframe with the entire database\n",
    "    data_filter needs the same dataframe name as df\n",
    "        would be hard to repurpose this function, so not worth fixing\n",
    "    data_filter is a boolean using the following syntax:\n",
    "    data_filter = (df.DEPTH > 100) & (df.SPEED > 5) \n",
    "    \"\"\"\n",
    "    \n",
    "    # columns to include\n",
    "    columns = ['DATETIME', 'MISSION', 'SETNO', 'TOTWGT', 'TOTNO', 'SPEC', 'COMMON_NAME']\n",
    "\n",
    "    # filter the data\n",
    "    if type(data_filter) == type(None):\n",
    "        haul_weights_filtered = df[columns].drop_duplicates()\n",
    "    else:\n",
    "        haul_weights_filtered = df[data_filter][columns].drop_duplicates()\n",
    "        title=f'Proportion of Haul by Year. Species: {species}. Filtered.'\n",
    "        ylabel='Proportion of Total Filtered Haul'\n",
    "      \n",
    "    # weights by species\n",
    "    yearly_weight_by_species = (\n",
    "        haul_weights_filtered\n",
    "        .drop(['SETNO', 'TOTNO'], axis=1)\n",
    "        .groupby([haul_weights_filtered['DATETIME'].dt.year, 'SPEC']).sum()\n",
    "    )\n",
    "    yearly_weight_by_species = yearly_weight_by_species.reset_index(level=1)\n",
    "    yearly_weight_by_species.index.names = ['YEAR']\n",
    "\n",
    "    # total weights (filtered totals)\n",
    "    yearly_weight_totals = (\n",
    "        haul_weights_filtered\n",
    "        .drop(['SETNO', 'TOTNO', 'SPEC'], axis=1)\n",
    "        .groupby([haul_weights_filtered['DATETIME'].dt.year]).sum()\n",
    "    )\n",
    "    yearly_weight_totals.index.names = ['YEAR']\n",
    "\n",
    "    # join the two dataframes\n",
    "    yearly_weight_by_species = (\n",
    "        yearly_weight_by_species\n",
    "        .merge(yearly_weight_totals, how='outer', on=['YEAR'])\n",
    "        .rename(columns={'TOTWGT_x': 'SPEC_TOTAL', 'TOTWGT_y': 'YEAR_TOTAL'})\n",
    "    )\n",
    "\n",
    "    # calculate the proportion of species to the total\n",
    "    yearly_weight_by_species['PROP_TOTAL'] = (\n",
    "        yearly_weight_by_species['SPEC_TOTAL'] / yearly_weight_by_species['YEAR_TOTAL']\n",
    "    )\n",
    "\n",
    "    return yearly_weight_by_species"
   ]
  },
  {
   "cell_type": "code",
   "execution_count": 68,
   "id": "d9e2ca03",
   "metadata": {},
   "outputs": [
    {
     "data": {
      "text/html": [
       "<style type=\"text/css\">\n",
       "</style>\n",
       "<table id=\"T_1345c_\">\n",
       "  <thead>\n",
       "    <tr>\n",
       "      <th class=\"blank level0\" >&nbsp;</th>\n",
       "      <th class=\"col_heading level0 col0\" >SPEC</th>\n",
       "      <th class=\"col_heading level0 col1\" >SPEC_TOTAL</th>\n",
       "      <th class=\"col_heading level0 col2\" >YEAR_TOTAL</th>\n",
       "      <th class=\"col_heading level0 col3\" >PROP_TOTAL</th>\n",
       "    </tr>\n",
       "    <tr>\n",
       "      <th class=\"index_name level0\" >YEAR</th>\n",
       "      <th class=\"blank col0\" >&nbsp;</th>\n",
       "      <th class=\"blank col1\" >&nbsp;</th>\n",
       "      <th class=\"blank col2\" >&nbsp;</th>\n",
       "      <th class=\"blank col3\" >&nbsp;</th>\n",
       "    </tr>\n",
       "  </thead>\n",
       "  <tbody>\n",
       "    <tr>\n",
       "      <th id=\"T_1345c_level0_row0\" class=\"row_heading level0 row0\" >1970</th>\n",
       "      <td id=\"T_1345c_row0_col0\" class=\"data row0 col0\" >10</td>\n",
       "      <td id=\"T_1345c_row0_col1\" class=\"data row0 col1\" >2_777</td>\n",
       "      <td id=\"T_1345c_row0_col2\" class=\"data row0 col2\" >38_325</td>\n",
       "      <td id=\"T_1345c_row0_col3\" class=\"data row0 col3\" >7.25%</td>\n",
       "    </tr>\n",
       "    <tr>\n",
       "      <th id=\"T_1345c_level0_row1\" class=\"row_heading level0 row1\" >1970</th>\n",
       "      <td id=\"T_1345c_row1_col0\" class=\"data row1 col0\" >11</td>\n",
       "      <td id=\"T_1345c_row1_col1\" class=\"data row1 col1\" >2_181</td>\n",
       "      <td id=\"T_1345c_row1_col2\" class=\"data row1 col2\" >38_325</td>\n",
       "      <td id=\"T_1345c_row1_col3\" class=\"data row1 col3\" >5.69%</td>\n",
       "    </tr>\n",
       "    <tr>\n",
       "      <th id=\"T_1345c_level0_row2\" class=\"row_heading level0 row2\" >1970</th>\n",
       "      <td id=\"T_1345c_row2_col0\" class=\"data row2 col0\" >12</td>\n",
       "      <td id=\"T_1345c_row2_col1\" class=\"data row2 col1\" >909</td>\n",
       "      <td id=\"T_1345c_row2_col2\" class=\"data row2 col2\" >38_325</td>\n",
       "      <td id=\"T_1345c_row2_col3\" class=\"data row2 col3\" >2.37%</td>\n",
       "    </tr>\n",
       "    <tr>\n",
       "      <th id=\"T_1345c_level0_row3\" class=\"row_heading level0 row3\" >1970</th>\n",
       "      <td id=\"T_1345c_row3_col0\" class=\"data row3 col0\" >13</td>\n",
       "      <td id=\"T_1345c_row3_col1\" class=\"data row3 col1\" >3</td>\n",
       "      <td id=\"T_1345c_row3_col2\" class=\"data row3 col2\" >38_325</td>\n",
       "      <td id=\"T_1345c_row3_col3\" class=\"data row3 col3\" >0.01%</td>\n",
       "    </tr>\n",
       "    <tr>\n",
       "      <th id=\"T_1345c_level0_row4\" class=\"row_heading level0 row4\" >1970</th>\n",
       "      <td id=\"T_1345c_row4_col0\" class=\"data row4 col0\" >14</td>\n",
       "      <td id=\"T_1345c_row4_col1\" class=\"data row4 col1\" >496</td>\n",
       "      <td id=\"T_1345c_row4_col2\" class=\"data row4 col2\" >38_325</td>\n",
       "      <td id=\"T_1345c_row4_col3\" class=\"data row4 col3\" >1.29%</td>\n",
       "    </tr>\n",
       "  </tbody>\n",
       "</table>\n"
      ],
      "text/plain": [
       "<pandas.io.formats.style.Styler at 0x18f21f7be80>"
      ]
     },
     "execution_count": 68,
     "metadata": {},
     "output_type": "execute_result"
    }
   ],
   "source": [
    "test = filtered_yearly()\n",
    "test.head().style.format({\n",
    "    'SPEC_TOTAL': '{:_.0f}'.format,\n",
    "    'YEAR_TOTAL': '{:_.0f}'.format,\n",
    "    'PROP_TOTAL': '{:.2%}'.format\n",
    "})"
   ]
  },
  {
   "cell_type": "code",
   "execution_count": 69,
   "id": "0ec47955",
   "metadata": {},
   "outputs": [],
   "source": [
    "def filter_by_species(dataframe, species_code):\n",
    "    dataframe = dataframe[dataframe.SPEC == species_code].copy()\n",
    "    dataframe.drop('SPEC', axis=1, inplace=True)  # remove SPEC label\n",
    "    return dataframe"
   ]
  },
  {
   "cell_type": "code",
   "execution_count": 70,
   "id": "b8ade481",
   "metadata": {},
   "outputs": [
    {
     "data": {
      "text/html": [
       "<style type=\"text/css\">\n",
       "</style>\n",
       "<table id=\"T_b218b_\">\n",
       "  <thead>\n",
       "    <tr>\n",
       "      <th class=\"blank level0\" >&nbsp;</th>\n",
       "      <th class=\"col_heading level0 col0\" >SPEC_TOTAL</th>\n",
       "      <th class=\"col_heading level0 col1\" >YEAR_TOTAL</th>\n",
       "      <th class=\"col_heading level0 col2\" >PROP_TOTAL</th>\n",
       "    </tr>\n",
       "    <tr>\n",
       "      <th class=\"index_name level0\" >YEAR</th>\n",
       "      <th class=\"blank col0\" >&nbsp;</th>\n",
       "      <th class=\"blank col1\" >&nbsp;</th>\n",
       "      <th class=\"blank col2\" >&nbsp;</th>\n",
       "    </tr>\n",
       "  </thead>\n",
       "  <tbody>\n",
       "    <tr>\n",
       "      <th id=\"T_b218b_level0_row0\" class=\"row_heading level0 row0\" >1970</th>\n",
       "      <td id=\"T_b218b_row0_col0\" class=\"data row0 col0\" >2_777</td>\n",
       "      <td id=\"T_b218b_row0_col1\" class=\"data row0 col1\" >38_325</td>\n",
       "      <td id=\"T_b218b_row0_col2\" class=\"data row0 col2\" >7.25%</td>\n",
       "    </tr>\n",
       "    <tr>\n",
       "      <th id=\"T_b218b_level0_row1\" class=\"row_heading level0 row1\" >1971</th>\n",
       "      <td id=\"T_b218b_row1_col0\" class=\"data row1 col0\" >2_406</td>\n",
       "      <td id=\"T_b218b_row1_col1\" class=\"data row1 col1\" >66_754</td>\n",
       "      <td id=\"T_b218b_row1_col2\" class=\"data row1 col2\" >3.60%</td>\n",
       "    </tr>\n",
       "    <tr>\n",
       "      <th id=\"T_b218b_level0_row2\" class=\"row_heading level0 row2\" >1972</th>\n",
       "      <td id=\"T_b218b_row2_col0\" class=\"data row2 col0\" >2_496</td>\n",
       "      <td id=\"T_b218b_row2_col1\" class=\"data row2 col1\" >18_210</td>\n",
       "      <td id=\"T_b218b_row2_col2\" class=\"data row2 col2\" >13.71%</td>\n",
       "    </tr>\n",
       "    <tr>\n",
       "      <th id=\"T_b218b_level0_row3\" class=\"row_heading level0 row3\" >1973</th>\n",
       "      <td id=\"T_b218b_row3_col0\" class=\"data row3 col0\" >4_246</td>\n",
       "      <td id=\"T_b218b_row3_col1\" class=\"data row3 col1\" >129_384</td>\n",
       "      <td id=\"T_b218b_row3_col2\" class=\"data row3 col2\" >3.28%</td>\n",
       "    </tr>\n",
       "    <tr>\n",
       "      <th id=\"T_b218b_level0_row4\" class=\"row_heading level0 row4\" >1974</th>\n",
       "      <td id=\"T_b218b_row4_col0\" class=\"data row4 col0\" >2_376</td>\n",
       "      <td id=\"T_b218b_row4_col1\" class=\"data row4 col1\" >19_544</td>\n",
       "      <td id=\"T_b218b_row4_col2\" class=\"data row4 col2\" >12.16%</td>\n",
       "    </tr>\n",
       "  </tbody>\n",
       "</table>\n"
      ],
      "text/plain": [
       "<pandas.io.formats.style.Styler at 0x18f216096a0>"
      ]
     },
     "execution_count": 70,
     "metadata": {},
     "output_type": "execute_result"
    }
   ],
   "source": [
    "test2 = filter_by_species(test, 10)\n",
    "test2.head().style.format({\n",
    "    'SPEC_TOTAL': '{:_.0f}'.format,\n",
    "    'YEAR_TOTAL': '{:_.0f}'.format,\n",
    "    'PROP_TOTAL': '{:.2%}'.format\n",
    "})"
   ]
  },
  {
   "cell_type": "code",
   "execution_count": 71,
   "id": "269de1db",
   "metadata": {},
   "outputs": [],
   "source": [
    "def graph_species(dataframe, species_code, title=None, ylabel=None):\n",
    "    \"\"\"\n",
    "    takes in an unfiltered dataframe, filters it, and plots the data\n",
    "    \"\"\"\n",
    "    \n",
    "    # species input\n",
    "    spec_no = species_code\n",
    "    species = get_species(spec_no)\n",
    "    \n",
    "    # filter the data\n",
    "    filtered_data = filter_by_species(dataframe, spec_no)\n",
    "    \n",
    "    # label overrides\n",
    "    if title == None:\n",
    "        title=f'Proportion of Haul. Species: {species}.'\n",
    "    if ylabel == None:\n",
    "        ylabel='Proportion of Total'\n",
    "    \n",
    "    # graph the proportion of haul by species by year\n",
    "    dataframe[dataframe.SPEC == spec_no].plot(\n",
    "        kind='bar',\n",
    "        width=1,\n",
    "        y='PROP_TOTAL', \n",
    "        ylabel=ylabel,\n",
    "        figsize=(30, 8), \n",
    "        legend=False, \n",
    "        title=title\n",
    "    );"
   ]
  },
  {
   "cell_type": "code",
   "execution_count": 72,
   "id": "a7ea0a32",
   "metadata": {},
   "outputs": [
    {
     "data": {
      "image/png": "[encoded data removed]",
      "text/plain": [
       "<Figure size 2160x576 with 1 Axes>"
      ]
     },
     "metadata": {},
     "output_type": "display_data"
    }
   ],
   "source": [
    "graph_species(test, 10)"
   ]
  },
  {
   "cell_type": "code",
   "execution_count": 73,
   "id": "d2820b1e",
   "metadata": {},
   "outputs": [],
   "source": [
    "def filtered_monthly(data_filter = None):\n",
    "    \"\"\"\n",
    "    assumes df is the main dataframe with the entire database\n",
    "    data_filter needs the same dataframe name as df\n",
    "        would be hard to repurpose this function, so not worth fixing\n",
    "    data_filter is a boolean using the following syntax:\n",
    "    data_filter = (df.DEPTH > 100) & (df.SPEED > 5) \n",
    "    \"\"\"\n",
    "    \n",
    "    # columns to include\n",
    "    columns = ['DATETIME', 'MISSION', 'SETNO', 'TOTWGT', 'TOTNO', 'SPEC', 'COMMON_NAME']\n",
    "\n",
    "    # filter the data\n",
    "    if type(data_filter) == type(None):\n",
    "        haul_weights_filtered = df[columns].drop_duplicates()\n",
    "    else:\n",
    "        haul_weights_filtered = df[data_filter][columns].drop_duplicates()\n",
    "        title=f'Proportion of Haul by Year. Species: {species}. Filtered.'\n",
    "        ylabel='Proportion of Total Filtered Haul'\n",
    "      \n",
    "    # weights by species\n",
    "    monthly_weight_by_species = (\n",
    "        haul_weights_filtered\n",
    "        .drop(['SETNO', 'TOTNO'], axis=1)\n",
    "        .groupby([haul_weights_filtered['DATETIME'].dt.year, haul_weights_filtered['DATETIME'].dt.month, 'SPEC']).sum()\n",
    "    )\n",
    "    monthly_weight_by_species = monthly_weight_by_species.reset_index(level=2)\n",
    "    monthly_weight_by_species.index.names = ['YEAR', 'MONTH']\n",
    "\n",
    "    # total weights (filtered totals)\n",
    "    monthly_weight_totals = (\n",
    "        haul_weights_filtered\n",
    "        .drop(['SETNO', 'TOTNO', 'SPEC'], axis=1)\n",
    "        .groupby([haul_weights_filtered['DATETIME'].dt.year, haul_weights_filtered['DATETIME'].dt.month]).sum()\n",
    "    )\n",
    "    monthly_weight_totals.index.names = ['YEAR', 'MONTH']\n",
    "\n",
    "    # join the two dataframes\n",
    "    monthly_weight_by_species = monthly_weight_by_species\n",
    "    monthly_weight_by_species = (\n",
    "        monthly_weight_by_species\n",
    "        .merge(monthly_weight_totals, how='outer', on=['YEAR', 'MONTH'])\n",
    "        .rename(columns={'TOTWGT_x': 'SPEC_TOTAL', 'TOTWGT_y': 'MONTH_TOTAL'})\n",
    "    )\n",
    "\n",
    "    # calculate the proportion of species to the total\n",
    "    monthly_weight_by_species['PROP_TOTAL'] = (\n",
    "        monthly_weight_by_species['SPEC_TOTAL'] / monthly_weight_by_species['MONTH_TOTAL']\n",
    "    )\n",
    "\n",
    "    return monthly_weight_by_species"
   ]
  },
  {
   "cell_type": "code",
   "execution_count": 74,
   "id": "b5d2dbae",
   "metadata": {},
   "outputs": [
    {
     "data": {
      "text/html": [
       "<style type=\"text/css\">\n",
       "</style>\n",
       "<table id=\"T_157de_\">\n",
       "  <thead>\n",
       "    <tr>\n",
       "      <th class=\"blank\" >&nbsp;</th>\n",
       "      <th class=\"blank level0\" >&nbsp;</th>\n",
       "      <th class=\"col_heading level0 col0\" >SPEC</th>\n",
       "      <th class=\"col_heading level0 col1\" >SPEC_TOTAL</th>\n",
       "      <th class=\"col_heading level0 col2\" >MONTH_TOTAL</th>\n",
       "      <th class=\"col_heading level0 col3\" >PROP_TOTAL</th>\n",
       "    </tr>\n",
       "    <tr>\n",
       "      <th class=\"index_name level0\" >YEAR</th>\n",
       "      <th class=\"index_name level1\" >MONTH</th>\n",
       "      <th class=\"blank col0\" >&nbsp;</th>\n",
       "      <th class=\"blank col1\" >&nbsp;</th>\n",
       "      <th class=\"blank col2\" >&nbsp;</th>\n",
       "      <th class=\"blank col3\" >&nbsp;</th>\n",
       "    </tr>\n",
       "  </thead>\n",
       "  <tbody>\n",
       "    <tr>\n",
       "      <th id=\"T_157de_level0_row0\" class=\"row_heading level0 row0\" rowspan=\"5\">1970</th>\n",
       "      <th id=\"T_157de_level1_row0\" class=\"row_heading level1 row0\" >7</th>\n",
       "      <td id=\"T_157de_row0_col0\" class=\"data row0 col0\" >10</td>\n",
       "      <td id=\"T_157de_row0_col1\" class=\"data row0 col1\" >2_777</td>\n",
       "      <td id=\"T_157de_row0_col2\" class=\"data row0 col2\" >38_325</td>\n",
       "      <td id=\"T_157de_row0_col3\" class=\"data row0 col3\" >7.25%</td>\n",
       "    </tr>\n",
       "    <tr>\n",
       "      <th id=\"T_157de_level1_row1\" class=\"row_heading level1 row1\" >7</th>\n",
       "      <td id=\"T_157de_row1_col0\" class=\"data row1 col0\" >11</td>\n",
       "      <td id=\"T_157de_row1_col1\" class=\"data row1 col1\" >2_181</td>\n",
       "      <td id=\"T_157de_row1_col2\" class=\"data row1 col2\" >38_325</td>\n",
       "      <td id=\"T_157de_row1_col3\" class=\"data row1 col3\" >5.69%</td>\n",
       "    </tr>\n",
       "    <tr>\n",
       "      <th id=\"T_157de_level1_row2\" class=\"row_heading level1 row2\" >7</th>\n",
       "      <td id=\"T_157de_row2_col0\" class=\"data row2 col0\" >12</td>\n",
       "      <td id=\"T_157de_row2_col1\" class=\"data row2 col1\" >909</td>\n",
       "      <td id=\"T_157de_row2_col2\" class=\"data row2 col2\" >38_325</td>\n",
       "      <td id=\"T_157de_row2_col3\" class=\"data row2 col3\" >2.37%</td>\n",
       "    </tr>\n",
       "    <tr>\n",
       "      <th id=\"T_157de_level1_row3\" class=\"row_heading level1 row3\" >7</th>\n",
       "      <td id=\"T_157de_row3_col0\" class=\"data row3 col0\" >13</td>\n",
       "      <td id=\"T_157de_row3_col1\" class=\"data row3 col1\" >3</td>\n",
       "      <td id=\"T_157de_row3_col2\" class=\"data row3 col2\" >38_325</td>\n",
       "      <td id=\"T_157de_row3_col3\" class=\"data row3 col3\" >0.01%</td>\n",
       "    </tr>\n",
       "    <tr>\n",
       "      <th id=\"T_157de_level1_row4\" class=\"row_heading level1 row4\" >7</th>\n",
       "      <td id=\"T_157de_row4_col0\" class=\"data row4 col0\" >14</td>\n",
       "      <td id=\"T_157de_row4_col1\" class=\"data row4 col1\" >496</td>\n",
       "      <td id=\"T_157de_row4_col2\" class=\"data row4 col2\" >38_325</td>\n",
       "      <td id=\"T_157de_row4_col3\" class=\"data row4 col3\" >1.29%</td>\n",
       "    </tr>\n",
       "  </tbody>\n",
       "</table>\n"
      ],
      "text/plain": [
       "<pandas.io.formats.style.Styler at 0x18f220ed100>"
      ]
     },
     "execution_count": 74,
     "metadata": {},
     "output_type": "execute_result"
    }
   ],
   "source": [
    "test = filtered_monthly()\n",
    "test.head().style.format({\n",
    "    'SPEC_TOTAL': '{:_.0f}'.format,\n",
    "    'MONTH_TOTAL': '{:_.0f}'.format,\n",
    "    'PROP_TOTAL': '{:.2%}'.format\n",
    "})"
   ]
  },
  {
   "cell_type": "code",
   "execution_count": 75,
   "id": "989a06a4",
   "metadata": {},
   "outputs": [
    {
     "data": {
      "text/html": [
       "<style type=\"text/css\">\n",
       "</style>\n",
       "<table id=\"T_93998_\">\n",
       "  <thead>\n",
       "    <tr>\n",
       "      <th class=\"blank\" >&nbsp;</th>\n",
       "      <th class=\"blank level0\" >&nbsp;</th>\n",
       "      <th class=\"col_heading level0 col0\" >SPEC_TOTAL</th>\n",
       "      <th class=\"col_heading level0 col1\" >MONTH_TOTAL</th>\n",
       "      <th class=\"col_heading level0 col2\" >PROP_TOTAL</th>\n",
       "    </tr>\n",
       "    <tr>\n",
       "      <th class=\"index_name level0\" >YEAR</th>\n",
       "      <th class=\"index_name level1\" >MONTH</th>\n",
       "      <th class=\"blank col0\" >&nbsp;</th>\n",
       "      <th class=\"blank col1\" >&nbsp;</th>\n",
       "      <th class=\"blank col2\" >&nbsp;</th>\n",
       "    </tr>\n",
       "  </thead>\n",
       "  <tbody>\n",
       "    <tr>\n",
       "      <th id=\"T_93998_level0_row0\" class=\"row_heading level0 row0\" >1970</th>\n",
       "      <th id=\"T_93998_level1_row0\" class=\"row_heading level1 row0\" >7</th>\n",
       "      <td id=\"T_93998_row0_col0\" class=\"data row0 col0\" >2_777</td>\n",
       "      <td id=\"T_93998_row0_col1\" class=\"data row0 col1\" >38_325</td>\n",
       "      <td id=\"T_93998_row0_col2\" class=\"data row0 col2\" >7.25%</td>\n",
       "    </tr>\n",
       "    <tr>\n",
       "      <th id=\"T_93998_level0_row1\" class=\"row_heading level0 row1\" rowspan=\"2\">1971</th>\n",
       "      <th id=\"T_93998_level1_row1\" class=\"row_heading level1 row1\" >6</th>\n",
       "      <td id=\"T_93998_row1_col0\" class=\"data row1 col0\" >106</td>\n",
       "      <td id=\"T_93998_row1_col1\" class=\"data row1 col1\" >10_447</td>\n",
       "      <td id=\"T_93998_row1_col2\" class=\"data row1 col2\" >1.01%</td>\n",
       "    </tr>\n",
       "    <tr>\n",
       "      <th id=\"T_93998_level1_row2\" class=\"row_heading level1 row2\" >7</th>\n",
       "      <td id=\"T_93998_row2_col0\" class=\"data row2 col0\" >2_300</td>\n",
       "      <td id=\"T_93998_row2_col1\" class=\"data row2 col1\" >56_307</td>\n",
       "      <td id=\"T_93998_row2_col2\" class=\"data row2 col2\" >4.08%</td>\n",
       "    </tr>\n",
       "    <tr>\n",
       "      <th id=\"T_93998_level0_row3\" class=\"row_heading level0 row3\" rowspan=\"2\">1972</th>\n",
       "      <th id=\"T_93998_level1_row3\" class=\"row_heading level1 row3\" >6</th>\n",
       "      <td id=\"T_93998_row3_col0\" class=\"data row3 col0\" >846</td>\n",
       "      <td id=\"T_93998_row3_col1\" class=\"data row3 col1\" >8_902</td>\n",
       "      <td id=\"T_93998_row3_col2\" class=\"data row3 col2\" >9.50%</td>\n",
       "    </tr>\n",
       "    <tr>\n",
       "      <th id=\"T_93998_level1_row4\" class=\"row_heading level1 row4\" >7</th>\n",
       "      <td id=\"T_93998_row4_col0\" class=\"data row4 col0\" >1_650</td>\n",
       "      <td id=\"T_93998_row4_col1\" class=\"data row4 col1\" >9_308</td>\n",
       "      <td id=\"T_93998_row4_col2\" class=\"data row4 col2\" >17.73%</td>\n",
       "    </tr>\n",
       "  </tbody>\n",
       "</table>\n"
      ],
      "text/plain": [
       "<pandas.io.formats.style.Styler at 0x18f21b95cd0>"
      ]
     },
     "execution_count": 75,
     "metadata": {},
     "output_type": "execute_result"
    }
   ],
   "source": [
    "test2 = filter_by_species(test, 10)\n",
    "test2.head().style.format({\n",
    "    'SPEC_TOTAL': '{:_.0f}'.format,\n",
    "    'MONTH_TOTAL': '{:_.0f}'.format,\n",
    "    'PROP_TOTAL': '{:.2%}'.format\n",
    "})"
   ]
  },
  {
   "cell_type": "code",
   "execution_count": 76,
   "id": "f108f103",
   "metadata": {},
   "outputs": [
    {
     "data": {
      "image/png": "[encoded data removed]",
      "text/plain": [
       "<Figure size 2160x576 with 1 Axes>"
      ]
     },
     "metadata": {},
     "output_type": "display_data"
    }
   ],
   "source": [
    "graph_species(test, 10)"
   ]
  },
  {
   "cell_type": "code",
   "execution_count": null,
   "id": "8bc92180",
   "metadata": {},
   "outputs": [],
   "source": []
  },
  {
   "cell_type": "code",
   "execution_count": null,
   "id": "10d7059b",
   "metadata": {},
   "outputs": [],
   "source": []
  },
  {
   "cell_type": "code",
   "execution_count": null,
   "id": "4bb2bf15",
   "metadata": {},
   "outputs": [],
   "source": []
  },
  {
   "cell_type": "code",
   "execution_count": null,
   "id": "caef448c",
   "metadata": {},
   "outputs": [],
   "source": []
  },
  {
   "cell_type": "code",
   "execution_count": null,
   "id": "734de472",
   "metadata": {},
   "outputs": [],
   "source": []
  },
  {
   "cell_type": "code",
   "execution_count": null,
   "id": "600922e4",
   "metadata": {},
   "outputs": [],
   "source": []
  },
  {
   "cell_type": "code",
   "execution_count": null,
   "id": "e861db46",
   "metadata": {},
   "outputs": [],
   "source": []
  },
  {
   "cell_type": "code",
   "execution_count": null,
   "id": "12c8bd7e",
   "metadata": {},
   "outputs": [],
   "source": []
  },
  {
   "cell_type": "code",
   "execution_count": null,
   "id": "918d3a78",
   "metadata": {},
   "outputs": [],
   "source": []
  },
  {
   "cell_type": "code",
   "execution_count": null,
   "id": "5b3bb698",
   "metadata": {},
   "outputs": [],
   "source": []
  },
  {
   "cell_type": "code",
   "execution_count": null,
   "id": "1a7fab7d",
   "metadata": {},
   "outputs": [],
   "source": []
  },
  {
   "cell_type": "code",
   "execution_count": null,
   "id": "4e1bd6f5",
   "metadata": {},
   "outputs": [],
   "source": []
  },
  {
   "cell_type": "code",
   "execution_count": null,
   "id": "1b1a7db5",
   "metadata": {},
   "outputs": [],
   "source": [
    "# ?????    \n"
   ]
  },
  {
   "cell_type": "code",
   "execution_count": null,
   "id": "272f2d67",
   "metadata": {},
   "outputs": [],
   "source": []
  },
  {
   "cell_type": "code",
   "execution_count": null,
   "id": "545ead16",
   "metadata": {},
   "outputs": [],
   "source": [
    "# TODO:\n",
    "# check groupby sums are working properly (use dataframe and make sure periods all sum to 1.00)\n",
    "\n",
    "def filtered_monthly(species_code, data_filter = None):\n",
    "    \"\"\"\n",
    "    assumes df is the main dataframe with the entire database\n",
    "    data_filter needs the same dataframe name as df\n",
    "        would be hard to repurpose this function, so not worth fixing\n",
    "    data_filter is a boolean using the following syntax:\n",
    "    data_filter = (df.DEPTH > 100) & (df.SPEED > 5) \n",
    "    \"\"\"\n",
    "    \n",
    "    # columns to include\n",
    "    columns = ['DATETIME', 'MISSION', 'SETNO', 'TOTWGT', 'TOTNO', 'SPEC', 'COMMON_NAME']\n",
    "    \n",
    "    # species input\n",
    "    spec_no = species_code\n",
    "    species = get_species(spec_no)\n",
    "\n",
    "    # filter the data\n",
    "    if type(data_filter) == type(None):\n",
    "        haul_weights_filtered = df[columns].drop_duplicates()\n",
    "        title=f'Proportion of Haul by Month. Species: {species}.'\n",
    "        ylabel='Proportion of Total Haul'\n",
    "    else:\n",
    "        haul_weights_filtered = df[data_filter][columns].drop_duplicates()\n",
    "        title=f'Proportion of Haul by Month. Species: {species}. Filtered.'\n",
    "        ylabel='Proportion of Total Filtered Haul'\n",
    "\n",
    "    # weights by species\n",
    "    monthly_weight_by_species = (\n",
    "        haul_weights_filtered\n",
    "        .drop(['SETNO', 'TOTNO'], axis=1)\n",
    "        .groupby([haul_weights_filtered['DATETIME'].dt.year, 'SPEC']).sum()\n",
    "    )\n",
    "    monthly_weight_by_species = monthly_weight_by_species.reset_index(level=1)\n",
    "    monthly_weight_by_species.index.names = ['YEAR']\n",
    "\n",
    "    # total weights (filtered totals)\n",
    "    monthly_weight_totals = (\n",
    "        haul_weights_filtered\n",
    "        .drop(['SETNO', 'TOTNO', 'SPEC'], axis=1)\n",
    "        .groupby([haul_weights_filtered['DATETIME'].dt.year]).sum()\n",
    "    )\n",
    "    monthly_weight_totals.index.names = ['YEAR']\n",
    "    \n",
    "    # join the two dataframes\n",
    "    monthly_weight_by_species = (\n",
    "        monthly_weight_by_species\n",
    "        .merge(monthly_weight_totals, how='outer', on=['YEAR'])\n",
    "        .rename(columns={'TOTWGT_x': 'SPEC_TOTAL', 'TOTWGT_y': 'YEAR_TOTAL'})\n",
    "    )\n",
    "\n",
    "    # calculate the proportion of species to the total\n",
    "    monthly_weight_by_species['PROP_TOTAL'] = (\n",
    "        monthly_weight_by_species['SPEC_TOTAL'] / monthly_weight_by_species['YEAR_TOTAL']\n",
    "    )\n",
    "    \n",
    "    return monthly_weight_by_species\n",
    "\n",
    "\n",
    "def filtered_yearly(species_code, data_filter = None):\n",
    "    \"\"\"\n",
    "    assumes df is the main dataframe with the entire database\n",
    "    data_filter needs the same dataframe name as df\n",
    "        would be hard to repurpose this function, so not worth fixing\n",
    "    data_filter is a boolean using the following syntax:\n",
    "    data_filter = (df.DEPTH > 100) & (df.SPEED > 5) \n",
    "    \"\"\"\n",
    "    \n",
    "    # columns to include\n",
    "    columns = ['DATETIME', 'MISSION', 'SETNO', 'TOTWGT', 'TOTNO', 'SPEC', 'COMMON_NAME']\n",
    "    \n",
    "    # species input\n",
    "    spec_no = species_code\n",
    "    species = get_species(spec_no)\n",
    "\n",
    "    # filter the data\n",
    "    if type(data_filter) == type(None):\n",
    "        haul_weights_filtered = df[columns].drop_duplicates()\n",
    "        title=f'Proportion of Haul by Year. Species: {species}.'\n",
    "        ylabel='Proportion of Total Haul'\n",
    "    else:\n",
    "        haul_weights_filtered = df[data_filter][columns].drop_duplicates()\n",
    "        title=f'Proportion of Haul by Year. Species: {species}. Filtered.'\n",
    "        ylabel='Proportion of Total Filtered Haul'\n",
    "      \n",
    "    # weights by species\n",
    "    yearly_weight_by_species = (\n",
    "        haul_weights_filtered\n",
    "        .drop(['SETNO', 'TOTNO'], axis=1)\n",
    "        .groupby([haul_weights_filtered['DATETIME'].dt.year, 'SPEC']).sum()\n",
    "    )\n",
    "    yearly_weight_by_species = yearly_weight_by_species.reset_index(level=1)\n",
    "    yearly_weight_by_species.index.names = ['YEAR']\n",
    "\n",
    "    # total weights (filtered totals)\n",
    "    yearly_weight_totals = (\n",
    "        haul_weights_filtered\n",
    "        .drop(['SETNO', 'TOTNO', 'SPEC'], axis=1)\n",
    "        .groupby([haul_weights_filtered['DATETIME'].dt.year]).sum()\n",
    "    )\n",
    "    yearly_weight_totals.index.names = ['YEAR']\n",
    "\n",
    "    # join the two dataframes\n",
    "    yearly_weight_by_species = (\n",
    "        yearly_weight_by_species\n",
    "        .merge(yearly_weight_totals, how='outer', on=['YEAR'])\n",
    "        .rename(columns={'TOTWGT_x': 'SPEC_TOTAL', 'TOTWGT_y': 'YEAR_TOTAL'})\n",
    "    )\n",
    "\n",
    "    # calculate the proportion of species to the total\n",
    "    yearly_weight_by_species['PROP_TOTAL'] = (\n",
    "        yearly_weight_by_species['SPEC_TOTAL'] / yearly_weight_by_species['YEAR_TOTAL']\n",
    "    )\n",
    "\n",
    "    return monthly_weight_by_species\n",
    "\n",
    "    \n",
    "def graph_species(dataframe, species_code):\n",
    "    \n",
    "    # species input\n",
    "    spec_no = species_code\n",
    "    species = get_species(spec_no)\n",
    "    \n",
    "    title=f'Proportion of Haul by Year. Species: {species}.'\n",
    "    ylabel='Proportion of Total Haul'\n",
    "    \n",
    "    # graph the proportion of haul by species by year\n",
    "    dataframe[dataframe.SPEC == spec_no].plot(\n",
    "        kind='bar',\n",
    "        width=1,\n",
    "        y='PROP_TOTAL', \n",
    "        ylabel=ylabel,\n",
    "        figsize=(24, 8), \n",
    "        legend=False, \n",
    "        title=title\n",
    "    );\n"
   ]
  },
  {
   "cell_type": "code",
   "execution_count": null,
   "id": "eaa75b82",
   "metadata": {},
   "outputs": [],
   "source": [
    "# data_filter = (df.DEPTH > 200)\n",
    "yearly_cod = filtered_yearly(10)\n",
    "graph_species(yearly_cod)"
   ]
  },
  {
   "cell_type": "code",
   "execution_count": null,
   "id": "8ffbd11d",
   "metadata": {},
   "outputs": [],
   "source": []
  },
  {
   "cell_type": "code",
   "execution_count": null,
   "id": "00c1f6ec",
   "metadata": {},
   "outputs": [],
   "source": []
  },
  {
   "cell_type": "code",
   "execution_count": null,
   "id": "63517df3",
   "metadata": {},
   "outputs": [],
   "source": []
  },
  {
   "cell_type": "code",
   "execution_count": null,
   "id": "07b67048",
   "metadata": {},
   "outputs": [],
   "source": []
  },
  {
   "cell_type": "code",
   "execution_count": null,
   "id": "75769584",
   "metadata": {},
   "outputs": [],
   "source": []
  },
  {
   "cell_type": "code",
   "execution_count": null,
   "id": "f1536f7b",
   "metadata": {},
   "outputs": [],
   "source": []
  },
  {
   "cell_type": "code",
   "execution_count": null,
   "id": "bb1bcf2f",
   "metadata": {},
   "outputs": [],
   "source": [
    "haul_weights = df[['DATETIME', 'MISSION', 'SETNO', 'TOTWGT', 'TOTNO', 'SPEC', 'COMMON_NAME']].drop_duplicates()"
   ]
  },
  {
   "cell_type": "code",
   "execution_count": null,
   "id": "a5dd8e60",
   "metadata": {},
   "outputs": [],
   "source": [
    "# monthly weights, totals and by species\n",
    "\n",
    "# weights by species\n",
    "monthly_weight_by_species = haul_weights.drop(['SETNO', 'TOTNO'], axis=1).groupby([haul_weights['DATETIME'].dt.year, haul_weights['DATETIME'].dt.month, 'SPEC']).sum()\n",
    "monthly_weight_by_species = monthly_weight_by_species.reset_index(level=2)\n",
    "monthly_weight_by_species.index.names = ['YEAR', 'MONTH']\n",
    "\n",
    "# total weights\n",
    "monthly_weight_totals = haul_weights.drop(['SETNO', 'TOTNO', 'SPEC'], axis=1).groupby([haul_weights['DATETIME'].dt.year, haul_weights['DATETIME'].dt.month]).sum()\n",
    "monthly_weight_totals.index.names = ['YEAR', 'MONTH']\n",
    "\n",
    "# join the two dataframes\n",
    "monthly_weight_by_species = monthly_weight_by_species.merge(monthly_weight_totals, how='outer', on=['YEAR', 'MONTH']).rename(columns={'TOTWGT_x': 'SPEC_TOTAL', 'TOTWGT_y': 'MONTH_TOTAL'})\n",
    "\n",
    "# calculate the proportion of species to the total\n",
    "monthly_weight_by_species['PROP_TOTAL'] = monthly_weight_by_species['SPEC_TOTAL'] / monthly_weight_by_species['MONTH_TOTAL']"
   ]
  },
  {
   "cell_type": "code",
   "execution_count": null,
   "id": "14734ffc",
   "metadata": {},
   "outputs": [],
   "source": [
    "# how to format the output\n",
    "\n",
    "monthly_weight_by_species.head(10).style.format({\n",
    "    'SPEC': '{:_.0f}'.format,\n",
    "    'SPEC_TOTAL': '{:_.0f}'.format,\n",
    "    'MONTH_TOTAL': '{:_.0f}'.format,\n",
    "    'PROP_TOTAL': '{:.2%}'.format\n",
    "})"
   ]
  },
  {
   "cell_type": "code",
   "execution_count": null,
   "id": "995a6813",
   "metadata": {
    "scrolled": false
   },
   "outputs": [],
   "source": [
    "# proportion of haul by species by month\n",
    "# NOTE: x-axis is not exactly proportional to time\n",
    "\n",
    "def monthly_haul_proportion(species_code):\n",
    "    spec_no = species_code\n",
    "    species = get_species(spec_no)\n",
    "\n",
    "    monthly_weight_by_species[monthly_weight_by_species.SPEC == spec_no].plot(\n",
    "        kind='bar',\n",
    "        width=1,\n",
    "        y='PROP_TOTAL', \n",
    "        ylabel='Proportion of Total Haul',\n",
    "        figsize=(36, 6), \n",
    "        legend=False, \n",
    "        title=f'Proportion of Haul by Month. Species: {species}'\n",
    "    );"
   ]
  },
  {
   "cell_type": "code",
   "execution_count": null,
   "id": "5225222b",
   "metadata": {},
   "outputs": [],
   "source": [
    "monthly_haul_proportion(10)"
   ]
  },
  {
   "cell_type": "markdown",
   "id": "1049575a",
   "metadata": {},
   "source": [
    "# Haul Weights By Year"
   ]
  },
  {
   "cell_type": "code",
   "execution_count": null,
   "id": "6a41645d",
   "metadata": {},
   "outputs": [],
   "source": [
    "# yearly weights, totals and by species\n",
    "\n",
    "# weights by species\n",
    "yearly_weight_by_species = haul_weights.drop(['SETNO', 'TOTNO'], axis=1).groupby([haul_weights['DATETIME'].dt.year, 'SPEC']).sum()\n",
    "yearly_weight_by_species = yearly_weight_by_species.reset_index(level=1)\n",
    "yearly_weight_by_species.index.names = ['YEAR']\n",
    "\n",
    "# total weights\n",
    "yearly_weight_totals = haul_weights.drop(['SETNO', 'TOTNO', 'SPEC'], axis=1).groupby([haul_weights['DATETIME'].dt.year]).sum()\n",
    "yearly_weight_totals.index.names = ['YEAR']\n",
    "\n",
    "# join the two dataframes\n",
    "yearly_weight_by_species = yearly_weight_by_species.merge(yearly_weight_totals, how='outer', on=['YEAR']).rename(columns={'TOTWGT_x': 'SPEC_TOTAL', 'TOTWGT_y': 'YEAR_TOTAL'})\n",
    "\n",
    "# calculate the proportion of species to the total\n",
    "yearly_weight_by_species['PROP_TOTAL'] = yearly_weight_by_species['SPEC_TOTAL'] / yearly_weight_by_species['YEAR_TOTAL']"
   ]
  },
  {
   "cell_type": "code",
   "execution_count": null,
   "id": "0a1df1b2",
   "metadata": {},
   "outputs": [],
   "source": [
    "# proportion of haul by species by year\n",
    "\n",
    "def yearly_haul_proportion(species_code):\n",
    "    spec_no = species_code\n",
    "    species = get_species(spec_no)\n",
    "\n",
    "    yearly_weight_by_species[yearly_weight_by_species.SPEC == spec_no].plot(\n",
    "        kind='bar',\n",
    "        width=1,\n",
    "        y='PROP_TOTAL', \n",
    "        ylabel='Proportion of Total Haul',\n",
    "        figsize=(24, 8), \n",
    "        legend=False, \n",
    "        title=f'Proportion of Haul by Year. Species: {species}'\n",
    "    );"
   ]
  },
  {
   "cell_type": "code",
   "execution_count": null,
   "id": "1ad02d95",
   "metadata": {},
   "outputs": [],
   "source": [
    "yearly_haul_proportion(10)"
   ]
  },
  {
   "cell_type": "code",
   "execution_count": null,
   "id": "e637624f",
   "metadata": {},
   "outputs": [],
   "source": [
    "yearly_haul_proportion(42)"
   ]
  },
  {
   "cell_type": "markdown",
   "id": "c367ef1e",
   "metadata": {},
   "source": [
    "# improved chart with filtering"
   ]
  },
  {
   "cell_type": "code",
   "execution_count": null,
   "id": "172b7e2b",
   "metadata": {},
   "outputs": [],
   "source": [
    "# TODO:\n",
    "# this should be separated into multiple functions \n",
    "# 1 generate a filtered dataframe\n",
    "# 2 plot the dataframe\n",
    "# maybe choose time period, month etc\n",
    "# check groupby sums are working properly (use dataframe and make sure periods all sum to 1.00)\n",
    "\n",
    "def filtered_haul(species_code, data_filter = None):\n",
    "    \n",
    "    # columns to include\n",
    "    columns = ['DATETIME', 'MISSION', 'SETNO', 'TOTWGT', 'TOTNO', 'SPEC', 'COMMON_NAME']\n",
    "    \n",
    "    # species input\n",
    "    spec_no = species_code\n",
    "    species = get_species(spec_no)\n",
    "\n",
    "    # filter the data\n",
    "    if type(data_filter) == type(None):\n",
    "        haul_weights_filtered = df[columns].drop_duplicates()\n",
    "        title=f'Proportion of Haul by Year. Species: {species}.'\n",
    "        ylabel='Proportion of Total Haul'\n",
    "    else:\n",
    "        haul_weights_filtered = df[data_filter][columns].drop_duplicates()\n",
    "        title=f'Proportion of Haul by Year. Species: {species}. Filtered.'\n",
    "        ylabel='Proportion of Filtered Haul'\n",
    "\n",
    "    # weights by species\n",
    "    yearly_weight_by_species = (\n",
    "        haul_weights_filtered\n",
    "        .drop(['SETNO', 'TOTNO'], axis=1)\n",
    "        .groupby([haul_weights_filtered['DATETIME'].dt.year, 'SPEC']).sum()\n",
    "    )\n",
    "    yearly_weight_by_species = yearly_weight_by_species.reset_index(level=1)\n",
    "    yearly_weight_by_species.index.names = ['YEAR']\n",
    "\n",
    "    # total weights (filtered totals)\n",
    "    yearly_weight_totals = (\n",
    "        haul_weights_filtered\n",
    "        .drop(['SETNO', 'TOTNO', 'SPEC'], axis=1)\n",
    "        .groupby([haul_weights_filtered['DATETIME'].dt.year]).sum()\n",
    "    )\n",
    "    yearly_weight_totals.index.names = ['YEAR']\n",
    "\n",
    "    # join the two dataframes\n",
    "    yearly_weight_by_species = (\n",
    "        yearly_weight_by_species\n",
    "        .merge(yearly_weight_totals, how='outer', on=['YEAR'])\n",
    "        .rename(columns={'TOTWGT_x': 'SPEC_TOTAL', 'TOTWGT_y': 'YEAR_TOTAL'})\n",
    "    )\n",
    "\n",
    "    # calculate the proportion of species to the total\n",
    "    yearly_weight_by_species['PROP_TOTAL'] = (\n",
    "        yearly_weight_by_species['SPEC_TOTAL'] / yearly_weight_by_species['YEAR_TOTAL']\n",
    "    )\n",
    "\n",
    "    # graph the proportion of haul by species by year\n",
    "    yearly_weight_by_species[yearly_weight_by_species.SPEC == spec_no].plot(\n",
    "        kind='bar',\n",
    "        width=1,\n",
    "        y='PROP_TOTAL', \n",
    "        ylabel=ylabel,\n",
    "        figsize=(24, 8), \n",
    "        legend=False, \n",
    "        title=title\n",
    "    );"
   ]
  },
  {
   "cell_type": "code",
   "execution_count": null,
   "id": "27993066",
   "metadata": {},
   "outputs": [],
   "source": [
    "df.columns"
   ]
  },
  {
   "cell_type": "code",
   "execution_count": null,
   "id": "8a21086b",
   "metadata": {},
   "outputs": [],
   "source": [
    "# use DEPTH as an example test case\n",
    "df.DEPTH.describe()"
   ]
  },
  {
   "cell_type": "code",
   "execution_count": null,
   "id": "f43dce13",
   "metadata": {},
   "outputs": [],
   "source": [
    "filtered_haul(10)"
   ]
  },
  {
   "cell_type": "code",
   "execution_count": null,
   "id": "5d57fabd",
   "metadata": {},
   "outputs": [],
   "source": [
    "data_filter = (df.DEPTH > 200)\n",
    "filtered_haul(10, data_filter)"
   ]
  },
  {
   "cell_type": "code",
   "execution_count": null,
   "id": "902c9bfb",
   "metadata": {},
   "outputs": [],
   "source": [
    "data_filter = (df.DEPTH > 200)\n",
    "filtered_haul(42, data_filter)"
   ]
  },
  {
   "cell_type": "code",
   "execution_count": null,
   "id": "da0c8dbc",
   "metadata": {},
   "outputs": [],
   "source": [
    "df[df.DEPTH > 500].SPEC.value_counts()"
   ]
  },
  {
   "cell_type": "code",
   "execution_count": null,
   "id": "093ad24e",
   "metadata": {},
   "outputs": [],
   "source": [
    "data_filter = (df.DEPTH > 500)\n",
    "filtered_haul(602, data_filter)"
   ]
  }
 ],
 "metadata": {
  "kernelspec": {
   "display_name": "Python 3 (ipykernel)",
   "language": "python",
   "name": "python3"
  },
  "language_info": {
   "codemirror_mode": {
    "name": "ipython",
    "version": 3
   },
   "file_extension": ".py",
   "mimetype": "text/x-python",
   "name": "python",
   "nbconvert_exporter": "python",
   "pygments_lexer": "ipython3",
   "version": "3.9.7"
  }
 },
 "nbformat": 4,
 "nbformat_minor": 5
}
